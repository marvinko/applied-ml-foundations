{
 "cells": [
  {
   "cell_type": "code",
   "execution_count": 2,
   "metadata": {},
   "outputs": [],
   "source": [
    "import pandas as pd\n",
    "from sklearn.ensemble import RandomForestClassifier\n",
    "from sklearn.metrics import accuracy_score, precision_score, recall_score\n",
    "\n",
    "tr_features = pd.read_csv('./train_features.csv')\n",
    "tr_labels = pd.read_csv('./train_labels.csv', header=None)\n",
    "\n",
    "val_features = pd.read_csv('./val_features.csv')\n",
    "val_labels = pd.read_csv('./val_labels.csv', header=None)\n",
    "\n",
    "te_features = pd.read_csv('./test_features.csv')\n",
    "te_labels = pd.read_csv('./test_labels.csv', header=None)\n"
   ]
  },
  {
   "cell_type": "markdown",
   "metadata": {},
   "source": [
    "### Result from last section"
   ]
  },
  {
   "cell_type": "markdown",
   "metadata": {},
   "source": [
    "0.768 (+/-0.129) for {'max_depth': 2, 'n_estimators': 5}\n",
    "0.798 (+/-0.131) for {'max_depth': 2, 'n_estimators': 50}\n",
    "0.796 (+/-0.123) for {'max_depth': 2, 'n_estimators': 100}\n",
    "-->0.813 (+/-0.059) for {'max_depth': 10, 'n_estimators': 5}\n",
    "-->0.818 (+/-0.046) for {'max_depth': 10, 'n_estimators': 50}\n",
    "0.83 (+/-0.052) for {'max_depth': 10, 'n_estimators': 100}\n",
    "0.788 (+/-0.053) for {'max_depth': 20, 'n_estimators': 5}\n",
    "0.809 (+/-0.039) for {'max_depth': 20, 'n_estimators': 50}\n",
    "0.805 (+/-0.033) for {'max_depth': 20, 'n_estimators': 100}\n",
    "0.805 (+/-0.051) for {'max_depth': None, 'n_estimators': 5}\n",
    "0.809 (+/-0.03) for {'max_depth': None, 'n_estimators': 50}\n",
    "-->0.813 (+/-0.026) for {'max_depth': None, 'n_estimators': 100}"
   ]
  },
  {
   "cell_type": "code",
   "execution_count": 10,
   "metadata": {},
   "outputs": [
    {
     "data": {
      "text/plain": [
       "RandomForestClassifier(bootstrap=True, class_weight=None, criterion='gini',\n",
       "            max_depth=10, max_features='auto', max_leaf_nodes=None,\n",
       "            min_impurity_decrease=0.0, min_impurity_split=None,\n",
       "            min_samples_leaf=1, min_samples_split=2,\n",
       "            min_weight_fraction_leaf=0.0, n_estimators=5, n_jobs=None,\n",
       "            oob_score=False, random_state=None, verbose=0,\n",
       "            warm_start=False)"
      ]
     },
     "execution_count": 10,
     "metadata": {},
     "output_type": "execute_result"
    }
   ],
   "source": [
    "rf1 = RandomForestClassifier(n_estimators=50, max_depth=10)\n",
    "rf1.fit(tr_features,tr_labels.values.ravel())\n",
    "\n",
    "rf2 = RandomForestClassifier(n_estimators=100, max_depth=None)\n",
    "rf2.fit(tr_features,tr_labels.values.ravel())\n",
    "\n",
    "rf3 = RandomForestClassifier(n_estimators=5, max_depth=10)\n",
    "rf3.fit(tr_features,tr_labels.values.ravel())"
   ]
  },
  {
   "cell_type": "markdown",
   "metadata": {},
   "source": [
    "## Evaluate models on validation set"
   ]
  },
  {
   "cell_type": "code",
   "execution_count": 11,
   "metadata": {},
   "outputs": [
    {
     "name": "stdout",
     "output_type": "stream",
     "text": [
      "MAX DEPTH: 10 / # OF EST: 50 -- A: 0.827 / P: 0.846 / R: 0.724\n",
      "MAX DEPTH: None / # OF EST: 100 -- A: 0.799 / P: 0.794 / R: 0.711\n",
      "MAX DEPTH: 10 / # OF EST: 5 -- A: 0.804 / P: 0.825 / R: 0.684\n"
     ]
    }
   ],
   "source": [
    "for mdl in [rf1,rf2,rf3]:\n",
    "    y_pred = mdl.predict(val_features)\n",
    "    accuracy = round(accuracy_score(val_labels,y_pred),3)\n",
    "    precision = round(precision_score(val_labels,y_pred),3)\n",
    "    recall = round(recall_score(val_labels,y_pred),3)\n",
    "    print('MAX DEPTH: {} / # OF EST: {} -- A: {} / P: {} / R: {}'.format(mdl.max_depth,\n",
    "                                                                         mdl.n_estimators,\n",
    "                                                                         accuracy,\n",
    "                                                                         precision,\n",
    "                                                                         recall))"
   ]
  },
  {
   "cell_type": "markdown",
   "metadata": {},
   "source": [
    "## Evaluate models on test set"
   ]
  },
  {
   "cell_type": "code",
   "execution_count": 15,
   "metadata": {},
   "outputs": [
    {
     "name": "stdout",
     "output_type": "stream",
     "text": [
      "MAX DEPTH: 10 / # OF EST: 50 -- A: 0.787 / P: 0.729 / R: 0.662\n"
     ]
    }
   ],
   "source": [
    "y_pred = rf1.predict(te_features)\n",
    "accuracy = round(accuracy_score(te_labels,y_pred),3)\n",
    "precision = round(precision_score(te_labels,y_pred),3)\n",
    "recall = round(recall_score(te_labels,y_pred),3)\n",
    "print('MAX DEPTH: {} / # OF EST: {} -- A: {} / P: {} / R: {}'.format(rf1.max_depth,\n",
    "                                                                     rf1.n_estimators,\n",
    "                                                                     accuracy,\n",
    "                                                                     precision,\n",
    "                                                                     recall))"
   ]
  }
 ],
 "metadata": {
  "kernelspec": {
   "display_name": "Python 3",
   "language": "python",
   "name": "python3"
  },
  "language_info": {
   "codemirror_mode": {
    "name": "ipython",
    "version": 3
   },
   "file_extension": ".py",
   "mimetype": "text/x-python",
   "name": "python",
   "nbconvert_exporter": "python",
   "pygments_lexer": "ipython3",
   "version": "3.7.1"
  }
 },
 "nbformat": 4,
 "nbformat_minor": 2
}

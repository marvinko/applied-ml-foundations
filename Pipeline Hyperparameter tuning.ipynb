{
 "cells": [
  {
   "cell_type": "code",
   "execution_count": 4,
   "metadata": {},
   "outputs": [],
   "source": [
    "import pandas as pd\n",
    "from sklearn.ensemble import RandomForestClassifier\n",
    "from sklearn.model_selection import GridSearchCV\n",
    "import warnings\n",
    "warnings.filterwarnings(\"ignore\",category=FutureWarning)\n",
    "\n",
    "tr_features = pd.read_csv('./train_features.csv')\n",
    "tr_labels = pd.read_csv('./train_labels.csv', header=None)\n"
   ]
  },
  {
   "cell_type": "code",
   "execution_count": 3,
   "metadata": {},
   "outputs": [],
   "source": [
    "def print_results(results):\n",
    "    print('BEST PARAMS: {}\\n'.format(results.best_params_))\n",
    "    means = results.cv_results_['mean_test_score']\n",
    "    stds = results.cv_results_['std_test_score']\n",
    "    for mean, std,params in zip(means,stds,results.cv_results_['params']):\n",
    "        print('{} (+/-{}) for {}'.format(round(mean, 3), round(std*2, 3), params))"
   ]
  },
  {
   "cell_type": "code",
   "execution_count": 5,
   "metadata": {},
   "outputs": [
    {
     "name": "stdout",
     "output_type": "stream",
     "text": [
      "BEST PARAMS: {'max_depth': 10, 'n_estimators': 100}\n",
      "\n",
      "0.768 (+/-0.129) for {'max_depth': 2, 'n_estimators': 5}\n",
      "0.798 (+/-0.131) for {'max_depth': 2, 'n_estimators': 50}\n",
      "0.796 (+/-0.123) for {'max_depth': 2, 'n_estimators': 100}\n",
      "0.813 (+/-0.059) for {'max_depth': 10, 'n_estimators': 5}\n",
      "0.818 (+/-0.046) for {'max_depth': 10, 'n_estimators': 50}\n",
      "0.83 (+/-0.052) for {'max_depth': 10, 'n_estimators': 100}\n",
      "0.788 (+/-0.053) for {'max_depth': 20, 'n_estimators': 5}\n",
      "0.809 (+/-0.039) for {'max_depth': 20, 'n_estimators': 50}\n",
      "0.805 (+/-0.033) for {'max_depth': 20, 'n_estimators': 100}\n",
      "0.805 (+/-0.051) for {'max_depth': None, 'n_estimators': 5}\n",
      "0.809 (+/-0.03) for {'max_depth': None, 'n_estimators': 50}\n",
      "0.813 (+/-0.026) for {'max_depth': None, 'n_estimators': 100}\n"
     ]
    },
    {
     "name": "stderr",
     "output_type": "stream",
     "text": [
      "C:\\Users\\Nass\\Anaconda3\\lib\\site-packages\\sklearn\\model_selection\\_search.py:841: DeprecationWarning: The default of the `iid` parameter will change from True to False in version 0.22 and will be removed in 0.24. This will change numeric results when test-set sizes are unequal.\n",
      "  DeprecationWarning)\n"
     ]
    }
   ],
   "source": [
    "rf = RandomForestClassifier()\n",
    "parameters = {\n",
    "    'n_estimators':[5,50,100],\n",
    "    'max_depth':[2,10,20,None]\n",
    "}\n",
    "cv = GridSearchCV(rf, parameters,cv=5)\n",
    "cv.fit(tr_features,tr_labels.values.ravel())\n",
    "\n",
    "print_results(cv)"
   ]
  }
 ],
 "metadata": {
  "kernelspec": {
   "display_name": "Python 3",
   "language": "python",
   "name": "python3"
  },
  "language_info": {
   "codemirror_mode": {
    "name": "ipython",
    "version": 3
   },
   "file_extension": ".py",
   "mimetype": "text/x-python",
   "name": "python",
   "nbconvert_exporter": "python",
   "pygments_lexer": "ipython3",
   "version": "3.7.1"
  }
 },
 "nbformat": 4,
 "nbformat_minor": 2
}
